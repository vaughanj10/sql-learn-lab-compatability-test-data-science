{
 "cells": [
  {
   "cell_type": "markdown",
   "metadata": {},
   "source": [
    "# W.I.P. Learn/SQL QA"
   ]
  },
  {
   "cell_type": "code",
   "execution_count": 1,
   "metadata": {},
   "outputs": [],
   "source": [
    "import sqlite3\n",
    "# connection = sqlite3.connect('sports.db')\n",
    "# cursor = connection.cursor()\n",
    "\n",
    "# ---- uncomment and run code above or code below to create db file called sports.db ----\n",
    "# ---- and create cursor and connection objects ----\n",
    "\n",
    "# from sql_runner import connection, cursor "
   ]
  },
  {
   "cell_type": "code",
   "execution_count": null,
   "metadata": {},
   "outputs": [],
   "source": [
    "# Example of running a SQL file in the directory\n",
    "# Uncomment out code below and press shift+enter\n",
    "# file = open('create_leagues.sql')\n",
    "# sql = file.read()\n",
    "# cursor.executescript(sql)"
   ]
  },
  {
   "cell_type": "code",
   "execution_count": null,
   "metadata": {},
   "outputs": [],
   "source": [
    "# Example of running SQL script directly from jupyter notebook\n",
    "# Uncomment out code below and press shift+enter\n",
    "# cursor.executescript('''INSERT INTO leagues (name) VALUES (\"NHL\"), (\"NBA\");''')"
   ]
  }
 ],
 "metadata": {
  "kernelspec": {
   "display_name": "Python 3",
   "language": "python",
   "name": "python3"
  },
  "language_info": {
   "codemirror_mode": {
    "name": "ipython",
    "version": 3
   },
   "file_extension": ".py",
   "mimetype": "text/x-python",
   "name": "python",
   "nbconvert_exporter": "python",
   "pygments_lexer": "ipython3",
   "version": "3.6.6"
  }
 },
 "nbformat": 4,
 "nbformat_minor": 2
}
